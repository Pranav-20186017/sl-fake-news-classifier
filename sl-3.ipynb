{
 "cells": [
  {
   "cell_type": "code",
   "execution_count": 14,
   "metadata": {},
   "outputs": [],
   "source": [
    "from utils.dataset import DataSet\n",
    "from utils.generate_test_splits import split\n",
    "from os import path\n",
    "from sklearn.pipeline import Pipeline, FeatureUnion\n",
    "from sklearn.preprocessing import FunctionTransformer\n",
    "from sklearn.feature_extraction.text import TfidfVectorizer\n",
    "from sklearn.ensemble import AdaBoostClassifier\n",
    "from sklearn.linear_model import LogisticRegression\n",
    "from sklearn.naive_bayes import MultinomialNB\n",
    "from sklearn import metrics\n",
    "import pylab as py\n",
    "from scipy.sparse import hstack\n",
    "from scipy.sparse import coo_matrix\n",
    "from tqdm import tqdm\n",
    "from scipy import sparse\n",
    "import csv, random, numpy, score, os, re, nltk, scipy, gensim\n",
    "from sklearn.neural_network import MLPClassifier\n",
    "from sklearn import tree\n",
    "from langdetect import detect\n",
    "from sklearn.ensemble import RandomForestClassifier"
   ]
  },
  {
   "cell_type": "code",
   "execution_count": 15,
   "metadata": {},
   "outputs": [
    {
     "name": "stdout",
     "output_type": "stream",
     "text": [
      "Reading dataset\n",
      "Total stances: 49972\n",
      "Total bodies: 1683\n"
     ]
    }
   ],
   "source": [
    "dataset = DataSet()\n",
    "lemmatizer = nltk.WordNetLemmatizer()"
   ]
  },
  {
   "cell_type": "code",
   "execution_count": 16,
   "metadata": {},
   "outputs": [],
   "source": [
    "def get_bodies(data):\n",
    "\tbodies = []\n",
    "\tfor i in range(len(data)):\n",
    "\t\tbodies.append(dataset.articles[data[i]['Body ID']])\t\n",
    "\treturn bodies"
   ]
  },
  {
   "cell_type": "code",
   "execution_count": 17,
   "metadata": {},
   "outputs": [],
   "source": [
    "# Get the headlines of training data points\n",
    "def get_headlines(data):\n",
    "\theadlines = []\n",
    "\tfor i in range(len(data)):\n",
    "\t\theadlines.append(data[i]['Headline'])\n",
    "\treturn headlines"
   ]
  },
  {
   "cell_type": "code",
   "execution_count": 18,
   "metadata": {},
   "outputs": [],
   "source": [
    "# Function for extracting tf-idf vectors (for both the bodies and the headlines).\n",
    "def extract_tfidf(training_headlines, training_bodies, dev_headlines, dev_bodies, test_headlines, test_bodies):\n",
    "\t# Body vectorisation\n",
    "\tbody_vectorizer = TfidfVectorizer(ngram_range=(1, 2), lowercase=True, stop_words='english')#, max_features=1024)\n",
    "\tbodies_tfidf = body_vectorizer.fit_transform(training_bodies)\n",
    "\n",
    "\t# Headline vectorisation\n",
    "\theadline_vectorizer = TfidfVectorizer(ngram_range=(1, 2), lowercase=True, stop_words='english')#, max_features=1024)\n",
    "\theadlines_tfidf = headline_vectorizer.fit_transform(training_headlines)\n",
    "\n",
    "\t# Tranform dev/test bodies and headlines using the trained vectorizer (trained on training data)\n",
    "\tbodies_tfidf_dev = body_vectorizer.transform(dev_bodies)\n",
    "\theadlines_tfidf_dev = headline_vectorizer.transform(dev_headlines)\n",
    "\n",
    "\tbodies_tfidf_test = body_vectorizer.transform(test_bodies)\n",
    "\theadlines_tfidf_test = headline_vectorizer.transform(test_headlines)\n",
    "\n",
    "\t# Combine body_tfdif with headline_tfidf for every data point. \n",
    "\ttraining_tfidf = scipy.sparse.hstack([bodies_tfidf, headlines_tfidf])\n",
    "\tdev_tfidf = scipy.sparse.hstack([bodies_tfidf_dev, headlines_tfidf_dev])\n",
    "\ttest_tfidf = scipy.sparse.hstack([bodies_tfidf_test, headlines_tfidf_test])\n",
    "\n",
    "\treturn training_tfidf, dev_tfidf, test_tfidf"
   ]
  },
  {
   "cell_type": "code",
   "execution_count": 19,
   "metadata": {},
   "outputs": [],
   "source": [
    "def extract_features(train, dev, test):\n",
    "\t# Get bodies and headlines for dev and training data\n",
    "\ttraining_bodies = get_bodies(training_data)\n",
    "\ttraining_headlines = get_headlines(training_data)\n",
    "\tdev_bodies = get_bodies(dev_data)\n",
    "\tdev_headlines = get_headlines(dev_data)\n",
    "\ttest_bodies = get_bodies(test_data)\n",
    "\ttest_headlines = get_headlines(test_data)\n",
    "\n",
    "\t# Extract tfidf vectors\n",
    "\tprint(\"\\t-Extracting tfidf vectors..\")\n",
    "\ttraining_tfidf, dev_tfidf, test_tfidf = extract_tfidf(training_headlines, training_bodies, dev_headlines, dev_bodies, test_headlines, test_bodies)\n",
    "\n",
    "\treturn training_tfidf, dev_tfidf, test_tfidf"
   ]
  },
  {
   "cell_type": "markdown",
   "metadata": {},
   "source": [
    "## Loading Data"
   ]
  },
  {
   "cell_type": "code",
   "execution_count": 20,
   "metadata": {},
   "outputs": [],
   "source": [
    "data_splits = split(dataset)"
   ]
  },
  {
   "cell_type": "code",
   "execution_count": 21,
   "metadata": {},
   "outputs": [],
   "source": [
    "training_data = data_splits['training']\n",
    "dev_data = data_splits['dev']\n",
    "test_data = data_splits['test']"
   ]
  },
  {
   "cell_type": "code",
   "execution_count": 22,
   "metadata": {},
   "outputs": [
    {
     "name": "stdout",
     "output_type": "stream",
     "text": [
      "\t-Training size:\t 40106\n",
      "\t-Dev size:\t 4835\n",
      "\t-Test data:\t 5031\n"
     ]
    }
   ],
   "source": [
    "N = int(len(training_data) * 1.0)\n",
    "training_data = training_data[:N]\n",
    "print(\"\\t-Training size:\\t\", len(training_data))\n",
    "print(\"\\t-Dev size:\\t\", len(dev_data))\n",
    "print(\"\\t-Test data:\\t\", len(test_data))"
   ]
  },
  {
   "cell_type": "markdown",
   "metadata": {},
   "source": [
    "## Extracting Features"
   ]
  },
  {
   "cell_type": "code",
   "execution_count": 23,
   "metadata": {},
   "outputs": [
    {
     "name": "stdout",
     "output_type": "stream",
     "text": [
      "\t-Extracting tfidf vectors..\n"
     ]
    }
   ],
   "source": [
    "training_features, dev_features, test_features = extract_features(training_data, dev_data, test_data)"
   ]
  },
  {
   "cell_type": "markdown",
   "metadata": {},
   "source": [
    "## Random Forrest Classifier"
   ]
  },
  {
   "cell_type": "code",
   "execution_count": 24,
   "metadata": {},
   "outputs": [
    {
     "data": {
      "text/plain": [
       "RandomForestClassifier(bootstrap=True, ccp_alpha=0.0, class_weight=None,\n",
       "                       criterion='gini', max_depth=None, max_features='auto',\n",
       "                       max_leaf_nodes=None, max_samples=None,\n",
       "                       min_impurity_decrease=0.0, min_impurity_split=None,\n",
       "                       min_samples_leaf=1, min_samples_split=2,\n",
       "                       min_weight_fraction_leaf=0.0, n_estimators=10,\n",
       "                       n_jobs=None, oob_score=False, random_state=12345,\n",
       "                       verbose=0, warm_start=False)"
      ]
     },
     "execution_count": 24,
     "metadata": {},
     "output_type": "execute_result"
    }
   ],
   "source": [
    "lr = RandomForestClassifier(n_estimators=10, random_state=12345)\n",
    "targets_tr = [a['Stance'] for a in training_data]\n",
    "targets_dev = [a['Stance'] for a in dev_data]\n",
    "targets_test = [a['Stance'] for a in test_data]\n",
    "lr.fit(training_features, targets_tr)"
   ]
  },
  {
   "cell_type": "markdown",
   "metadata": {},
   "source": [
    "## Prediction"
   ]
  },
  {
   "cell_type": "code",
   "execution_count": 25,
   "metadata": {},
   "outputs": [],
   "source": [
    "y_pred = lr.predict(test_features)"
   ]
  },
  {
   "cell_type": "markdown",
   "metadata": {},
   "source": [
    "## Evaluation Metrics"
   ]
  },
  {
   "cell_type": "code",
   "execution_count": 26,
   "metadata": {},
   "outputs": [
    {
     "name": "stdout",
     "output_type": "stream",
     "text": [
      "Confusion matrix\n",
      "-------------------------------------------------------------\n",
      "|           |   agree   | disagree  |  discuss  | unrelated |\n",
      "-------------------------------------------------------------\n",
      "|   agree   |    95     |     1     |    100    |    128    |\n",
      "-------------------------------------------------------------\n",
      "| disagree  |    20     |    21     |    25     |    23     |\n",
      "-------------------------------------------------------------\n",
      "|  discuss  |    68     |    12     |    652    |    265    |\n",
      "-------------------------------------------------------------\n",
      "| unrelated |    267    |     4     |    539    |   2811    |\n",
      "-------------------------------------------------------------\n",
      "Score: 1527.25 out of 2315.25\t(65.96479861785984%)\n"
     ]
    }
   ],
   "source": [
    "print(\"Confusion matrix\")\n",
    "score.report_score(targets_test, y_pred)"
   ]
  }
 ],
 "metadata": {
  "kernelspec": {
   "display_name": "Python 3",
   "language": "python",
   "name": "python3"
  },
  "language_info": {
   "codemirror_mode": {
    "name": "ipython",
    "version": 3
   },
   "file_extension": ".py",
   "mimetype": "text/x-python",
   "name": "python",
   "nbconvert_exporter": "python",
   "pygments_lexer": "ipython3",
   "version": "3.6.7"
  }
 },
 "nbformat": 4,
 "nbformat_minor": 4
}
